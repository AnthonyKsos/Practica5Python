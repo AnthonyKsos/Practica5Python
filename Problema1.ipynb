{
 "cells": [
  {
   "cell_type": "code",
   "execution_count": 2,
   "metadata": {},
   "outputs": [
    {
     "name": "stderr",
     "output_type": "stream",
     "text": [
      "/tmp/ipykernel_2092/1156145971.py:1: DeprecationWarning: \n",
      "Pyarrow will become a required dependency of pandas in the next major release of pandas (pandas 3.0),\n",
      "(to allow more performant data types, such as the Arrow string type, and better interoperability with other libraries)\n",
      "but was not found to be installed on your system.\n",
      "If this would cause problems for you,\n",
      "please provide us feedback at https://github.com/pandas-dev/pandas/issues/54466\n",
      "        \n",
      "  import pandas as pd\n"
     ]
    }
   ],
   "source": [
    "import pandas as pd\n",
    "import openpyxl\n",
    "df_airbnb = pd.read_csv(\"airbnb.csv\")"
   ]
  },
  {
   "cell_type": "code",
   "execution_count": 3,
   "metadata": {},
   "outputs": [
    {
     "data": {
      "text/plain": [
       "room_id                   int64\n",
       "host_id                   int64\n",
       "room_type                object\n",
       "neighborhood             object\n",
       "reviews                   int64\n",
       "overall_satisfaction    float64\n",
       "accommodates              int64\n",
       "bedrooms                float64\n",
       "price                   float64\n",
       "dtype: object"
      ]
     },
     "execution_count": 3,
     "metadata": {},
     "output_type": "execute_result"
    }
   ],
   "source": [
    "df_airbnb.dtypes"
   ]
  },
  {
   "cell_type": "code",
   "execution_count": 4,
   "metadata": {},
   "outputs": [
    {
     "name": "stdout",
     "output_type": "stream",
     "text": [
      "Las 3 mejores opciones son:\n",
      "     room_id  host_id        room_type   neighborhood  reviews  \\\n",
      "120   176153   842219  Entire home/apt   Misericórdia      438   \n",
      "931  1085634  5968047  Entire home/apt   Misericórdia      379   \n",
      "212   299321   199452  Entire home/apt  Santo António      337   \n",
      "\n",
      "     overall_satisfaction  accommodates  bedrooms  price  \n",
      "120                   5.0             4       2.0  102.0  \n",
      "931                   5.0             2       1.0   52.0  \n",
      "212                   5.0             2       1.0   87.0  \n"
     ]
    }
   ],
   "source": [
    "# Caso 1\n",
    "\n",
    "# Filtrar por más de 10 críticas y puntuación mayor de 4\n",
    "filtered_df = df_airbnb[(df_airbnb['reviews'] > 10) & (df_airbnb['overall_satisfaction'] > 4)]\n",
    "\n",
    "# Ordenar primero por puntuación de forma descendente, luego por número de críticas de forma descendente\n",
    "sorted_df = filtered_df.sort_values(by=['overall_satisfaction', 'reviews'], ascending=[False, False])\n",
    "\n",
    "top_3 = sorted_df.head(3)\n",
    "\n",
    "print(\"Las 3 mejores opciones son:\")\n",
    "print(top_3)"
   ]
  },
  {
   "cell_type": "code",
   "execution_count": 7,
   "metadata": {},
   "outputs": [
    {
     "name": "stdout",
     "output_type": "stream",
     "text": [
      "    room_id  host_id     room_type   neighborhood  reviews  \\\n",
      "48    97503   515924  Private room  Santo António       39   \n",
      "\n",
      "    overall_satisfaction  accommodates  bedrooms  price  \n",
      "48                   4.0             2       1.0   26.0  \n",
      "    room_id  host_id     room_type   neighborhood  reviews  \\\n",
      "41    90387   490050  Private room  Santo António      204   \n",
      "\n",
      "    overall_satisfaction  accommodates  bedrooms  price  \n",
      "41                   5.0             2       1.0   46.0  \n",
      "    room_id  host_id     room_type   neighborhood  reviews  \\\n",
      "48    97503   515924  Private room  Santo António       39   \n",
      "41    90387   490050  Private room  Santo António      204   \n",
      "\n",
      "    overall_satisfaction  accommodates  bedrooms  price  \n",
      "48                   4.0             2       1.0   26.0  \n",
      "41                   5.0             2       1.0   46.0  \n",
      "El archivo roberto.xlsx ha sido guardado correctamente\n"
     ]
    }
   ],
   "source": [
    "# Caso 2\n",
    "\n",
    "# Buscar por id\n",
    "roberto = df_airbnb.query(\"room_id == 97503\")\n",
    "clara = df_airbnb.query(\"room_id == 90387\")\n",
    "\n",
    "# Unir dataframes\n",
    "propiedades = pd.concat([roberto, clara])\n",
    "print(roberto)\n",
    "print(clara)\n",
    "print(propiedades)\n",
    "\n",
    "# Guardar como excel\n",
    "propiedades.to_excel(\"roberto.xlsx\")\n",
    "\n",
    "print(\"El archivo roberto.xlsx ha sido guardado correctamente\")"
   ]
  },
  {
   "cell_type": "code",
   "execution_count": 10,
   "metadata": {},
   "outputs": [
    {
     "name": "stdout",
     "output_type": "stream",
     "text": [
      "Las 10 propiedades más baratas son:\n",
      "       room_id   host_id    room_type    neighborhood  reviews  \\\n",
      "6459  11427995  32344156  Shared room    Misericórdia       21   \n",
      "6527  11523225  58899339  Shared room  Avenidas Novas        4   \n",
      "3663   5725814  29676067  Shared room    Misericórdia       23   \n",
      "6056  10397682  32344156  Shared room    Misericórdia       15   \n",
      "7932  13570032  78249982  Shared room    Misericórdia        8   \n",
      "4911   7722107  40574313  Shared room  Avenidas Novas       22   \n",
      "8918  14719962  40574313  Shared room  Avenidas Novas        4   \n",
      "1656   2382263  11481927  Shared room     São Vicente        4   \n",
      "9065  14933182  91501272  Shared room   Santo António        5   \n",
      "6399  11278059  58899339  Shared room         Arroios       27   \n",
      "\n",
      "      overall_satisfaction  accommodates  bedrooms  price  \n",
      "6459                   5.0             8       1.0   18.0  \n",
      "6527                   5.0             9       1.0   23.0  \n",
      "3663                   5.0             6       1.0   21.0  \n",
      "6056                   5.0             8       1.0   13.0  \n",
      "7932                   5.0            10       1.0   48.0  \n",
      "4911                   5.0             4       1.0   36.0  \n",
      "8918                   5.0             4       1.0   13.0  \n",
      "1656                   5.0             6       1.0   31.0  \n",
      "9065                   5.0             8       1.0   11.0  \n",
      "6399                   5.0             9       1.0   22.0  \n"
     ]
    }
   ],
   "source": [
    "# Caso 3\n",
    "\n",
    "# Filtrar según precio y capacidad de personas en alojamiento\n",
    "filtro_diana = df_airbnb[(df_airbnb['price'] <= 50) & (df_airbnb['accommodates'] >= 3)]\n",
    "\n",
    "# Priorizar los alojamientos de tipo habitación compartida\n",
    "alojamientos_tipo_compartido = filtro_diana[filtro_diana['room_type'] == 'Shared room']\n",
    "\n",
    "# Clasificar los alojamientos compartidos por su calificación, de mayor a menor\n",
    "if alojamientos_tipo_compartido.empty:\n",
    "    # Si no existen entonces ordenar por precio los disponibles y elegir los 10 primeros\n",
    "    seleccion_final = filtro_diana.sort_values(by='price').head(10)\n",
    "else:\n",
    "    # Si hay, entonces ordenar por satisfacción general y seleccionar los 10 primeros\n",
    "    alojamientos_compartidos_priorizados = alojamientos_tipo_compartido.sort_values(by='overall_satisfaction', ascending=False).head(10)\n",
    "    seleccion_final = alojamientos_compartidos_priorizados\n",
    "\n",
    "print(\"Las 10 propiedades más baratas son:\")\n",
    "print(seleccion_final)"
   ]
  }
 ],
 "metadata": {
  "kernelspec": {
   "display_name": "Python 3",
   "language": "python",
   "name": "python3"
  },
  "language_info": {
   "codemirror_mode": {
    "name": "ipython",
    "version": 3
   },
   "file_extension": ".py",
   "mimetype": "text/x-python",
   "name": "python",
   "nbconvert_exporter": "python",
   "pygments_lexer": "ipython3",
   "version": "3.10.13"
  }
 },
 "nbformat": 4,
 "nbformat_minor": 2
}
