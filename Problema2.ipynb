{
 "cells": [
  {
   "cell_type": "code",
   "execution_count": 1,
   "metadata": {},
   "outputs": [
    {
     "name": "stderr",
     "output_type": "stream",
     "text": [
      "/tmp/ipykernel_20204/1373011640.py:1: DeprecationWarning: \n",
      "Pyarrow will become a required dependency of pandas in the next major release of pandas (pandas 3.0),\n",
      "(to allow more performant data types, such as the Arrow string type, and better interoperability with other libraries)\n",
      "but was not found to be installed on your system.\n",
      "If this would cause problems for you,\n",
      "please provide us feedback at https://github.com/pandas-dev/pandas/issues/54466\n",
      "        \n",
      "  import pandas as pd\n"
     ]
    }
   ],
   "source": [
    "import pandas as pd\n",
    "import openpyxl\n",
    "df_winemag = pd.read_csv(\"winemag-data-130k-v2.csv\")"
   ]
  },
  {
   "cell_type": "code",
   "execution_count": 2,
   "metadata": {},
   "outputs": [
    {
     "data": {
      "text/plain": [
       "Index(['Unnamed: 0', 'country', 'description', 'designation', 'points',\n",
       "       'price', 'province', 'region_1', 'region_2', 'taster_name',\n",
       "       'taster_twitter_handle', 'title', 'variety', 'winery'],\n",
       "      dtype='object')"
      ]
     },
     "execution_count": 2,
     "metadata": {},
     "output_type": "execute_result"
    }
   ],
   "source": [
    "df_winemag.columns"
   ]
  },
  {
   "cell_type": "code",
   "execution_count": 3,
   "metadata": {},
   "outputs": [
    {
     "data": {
      "text/plain": [
       "0     NaN\n",
       "1    15.0\n",
       "2    14.0\n",
       "3    13.0\n",
       "4    65.0\n",
       "Name: price, dtype: float64"
      ]
     },
     "execution_count": 3,
     "metadata": {},
     "output_type": "execute_result"
    }
   ],
   "source": [
    "# Seleccion de una columna\n",
    "df_winemag['price'].head()"
   ]
  },
  {
   "cell_type": "code",
   "execution_count": 4,
   "metadata": {},
   "outputs": [
    {
     "data": {
      "text/plain": [
       "0     NaN\n",
       "1    15.0\n",
       "2    14.0\n",
       "3    13.0\n",
       "4    65.0\n",
       "Name: price, dtype: float64"
      ]
     },
     "execution_count": 4,
     "metadata": {},
     "output_type": "execute_result"
    }
   ],
   "source": [
    "df_winemag.price.head()"
   ]
  },
  {
   "cell_type": "code",
   "execution_count": 5,
   "metadata": {},
   "outputs": [
    {
     "data": {
      "text/html": [
       "<div>\n",
       "<style scoped>\n",
       "    .dataframe tbody tr th:only-of-type {\n",
       "        vertical-align: middle;\n",
       "    }\n",
       "\n",
       "    .dataframe tbody tr th {\n",
       "        vertical-align: top;\n",
       "    }\n",
       "\n",
       "    .dataframe thead th {\n",
       "        text-align: right;\n",
       "    }\n",
       "</style>\n",
       "<table border=\"1\" class=\"dataframe\">\n",
       "  <thead>\n",
       "    <tr style=\"text-align: right;\">\n",
       "      <th></th>\n",
       "      <th>country</th>\n",
       "      <th>price</th>\n",
       "    </tr>\n",
       "  </thead>\n",
       "  <tbody>\n",
       "    <tr>\n",
       "      <th>0</th>\n",
       "      <td>Italy</td>\n",
       "      <td>NaN</td>\n",
       "    </tr>\n",
       "    <tr>\n",
       "      <th>1</th>\n",
       "      <td>Portugal</td>\n",
       "      <td>15.0</td>\n",
       "    </tr>\n",
       "    <tr>\n",
       "      <th>2</th>\n",
       "      <td>US</td>\n",
       "      <td>14.0</td>\n",
       "    </tr>\n",
       "    <tr>\n",
       "      <th>3</th>\n",
       "      <td>US</td>\n",
       "      <td>13.0</td>\n",
       "    </tr>\n",
       "    <tr>\n",
       "      <th>4</th>\n",
       "      <td>US</td>\n",
       "      <td>65.0</td>\n",
       "    </tr>\n",
       "  </tbody>\n",
       "</table>\n",
       "</div>"
      ],
      "text/plain": [
       "    country  price\n",
       "0     Italy    NaN\n",
       "1  Portugal   15.0\n",
       "2        US   14.0\n",
       "3        US   13.0\n",
       "4        US   65.0"
      ]
     },
     "execution_count": 5,
     "metadata": {},
     "output_type": "execute_result"
    }
   ],
   "source": [
    "columns_select = ['country','price']\n",
    "df_subset = df_winemag[columns_select]\n",
    "df_subset.head()"
   ]
  },
  {
   "cell_type": "code",
   "execution_count": 7,
   "metadata": {},
   "outputs": [
    {
     "data": {
      "text/plain": [
       "index                int64\n",
       "Pais                object\n",
       "Descripcion         object\n",
       "Denominacion        object\n",
       "Puntuacion           int64\n",
       "Precio             float64\n",
       "Provincia           object\n",
       "Region_1            object\n",
       "Region_2            object\n",
       "Nombre_Catador      object\n",
       "Twitter_Catador     object\n",
       "Titulo              object\n",
       "Variedad            object\n",
       "Bodega              object\n",
       "dtype: object"
      ]
     },
     "execution_count": 7,
     "metadata": {},
     "output_type": "execute_result"
    }
   ],
   "source": [
    "# Renombrar columnas (pasando a idioma español)\n",
    "df_winemag = df_winemag.rename(columns = {\n",
    "    'Unnamed: 0': 'index',\n",
    "    'country': 'Pais',\n",
    "    'description': 'Descripcion',\n",
    "    'designation': 'Denominacion',\n",
    "    'points': 'Puntuacion',\n",
    "    'price': 'Precio',\n",
    "    'province': 'Provincia',\n",
    "    'region_1': 'Region_1',\n",
    "    'region_2': 'Region_2',\n",
    "    'taster_name': 'Nombre_Catador',\n",
    "    'taster_twitter_handle': 'Twitter_Catador',\n",
    "    'title': 'Titulo',\n",
    "    'variety': 'Variedad',\n",
    "    'winery': 'Bodega'\n",
    "})\n",
    "\n",
    "df_winemag.dtypes"
   ]
  },
  {
   "cell_type": "code",
   "execution_count": 9,
   "metadata": {},
   "outputs": [
    {
     "name": "stdout",
     "output_type": "stream",
     "text": [
      "            Pais Continente\n",
      "0          Italy     Europa\n",
      "1       Portugal     Europa\n",
      "2             US    America\n",
      "3             US    America\n",
      "4             US    America\n",
      "...          ...        ...\n",
      "65494     France     Europa\n",
      "65495  Australia      Otros\n",
      "65496         US    America\n",
      "65497         US    America\n",
      "65498      Spain     Europa\n",
      "\n",
      "[65499 rows x 2 columns]\n"
     ]
    }
   ],
   "source": [
    "# Crear columna continente (1)\n",
    "\n",
    "def pais_a_continente(pais):\n",
    "    if pais in ['Italy', 'France', 'Spain', 'Germany', 'Portugal']:\n",
    "        return 'Europa'\n",
    "    elif pais == 'US':\n",
    "        return 'America'\n",
    "    # Agregar más condiciones según sea necesario\n",
    "    else:\n",
    "        return 'Otros'\n",
    "\n",
    "df_winemag['Continente'] = df_winemag['Pais'].apply(pais_a_continente)\n",
    "print(df_winemag[['Pais', 'Continente']])"
   ]
  },
  {
   "cell_type": "code",
   "execution_count": 10,
   "metadata": {},
   "outputs": [
    {
     "name": "stdout",
     "output_type": "stream",
     "text": [
      "       Precio Categoria_Precio\n",
      "0         NaN          Premium\n",
      "1        15.0        Economico\n",
      "2        14.0        Economico\n",
      "3        13.0        Economico\n",
      "4        65.0          Premium\n",
      "...       ...              ...\n",
      "65494    45.0            Medio\n",
      "65495    22.0            Medio\n",
      "65496    20.0            Medio\n",
      "65497    31.0            Medio\n",
      "65498    10.0        Economico\n",
      "\n",
      "[65499 rows x 2 columns]\n"
     ]
    }
   ],
   "source": [
    "# Crear una columna de categoría de precio (2)\n",
    "\n",
    "def categoria_precio(precio):\n",
    "    if precio < 20:\n",
    "        return 'Economico'\n",
    "    elif 20 <= precio <= 50:\n",
    "        return 'Medio'\n",
    "    else:\n",
    "        return 'Premium'\n",
    "\n",
    "df_winemag['Categoria_Precio'] = df_winemag['Precio'].apply(categoria_precio)\n",
    "print(df_winemag[['Precio', 'Categoria_Precio']])"
   ]
  },
  {
   "cell_type": "code",
   "execution_count": 12,
   "metadata": {},
   "outputs": [
    {
     "name": "stdout",
     "output_type": "stream",
     "text": [
      "       Puntuacion Rango_Puntuacion\n",
      "0              87            Bueno\n",
      "1              87            Bueno\n",
      "2              87            Bueno\n",
      "3              87            Bueno\n",
      "4              87            Bueno\n",
      "...           ...              ...\n",
      "65494          90        Excelente\n",
      "65495          90        Excelente\n",
      "65496          90        Excelente\n",
      "65497          90        Excelente\n",
      "65498          90        Excelente\n",
      "\n",
      "[65499 rows x 2 columns]\n"
     ]
    }
   ],
   "source": [
    "# Crear una columna de rango de puntuación (3)\n",
    "\n",
    "def rango_puntuacion(puntuacion):\n",
    "    if puntuacion >= 90:\n",
    "        return 'Excelente'\n",
    "    elif 80 <= puntuacion < 90:\n",
    "        return 'Bueno'\n",
    "    else:\n",
    "        return 'Regular'\n",
    "\n",
    "df_winemag['Rango_Puntuacion'] = df_winemag['Puntuacion'].apply(rango_puntuacion)\n",
    "print(df_winemag[['Puntuacion', 'Rango_Puntuacion']])"
   ]
  },
  {
   "cell_type": "code",
   "execution_count": 13,
   "metadata": {},
   "outputs": [
    {
     "data": {
      "text/plain": [
       "index                 int64\n",
       "Pais                 object\n",
       "Descripcion          object\n",
       "Denominacion         object\n",
       "Puntuacion            int64\n",
       "Precio              float64\n",
       "Provincia            object\n",
       "Region_1             object\n",
       "Region_2             object\n",
       "Nombre_Catador       object\n",
       "Twitter_Catador      object\n",
       "Titulo               object\n",
       "Variedad             object\n",
       "Bodega               object\n",
       "Continente           object\n",
       "Categoria_Precio     object\n",
       "Rango_Puntuacion     object\n",
       "dtype: object"
      ]
     },
     "execution_count": 13,
     "metadata": {},
     "output_type": "execute_result"
    }
   ],
   "source": [
    "# Se comprueba que se han creado las 3 columnas y agregado a nuestro dataframe\n",
    "df_winemag.dtypes"
   ]
  },
  {
   "cell_type": "code",
   "execution_count": 20,
   "metadata": {},
   "outputs": [
    {
     "data": {
      "text/plain": [
       "Bodega            Variedad             \n",
       "Cardinale         Cabernet Sauvignon       100.0\n",
       "Krug              Chardonnay                99.0\n",
       "Clos de Tart      Pinot Noir                98.0\n",
       "Araujo            Cabernet Sauvignon        98.0\n",
       "Blandy's          Bual                      98.0\n",
       "                                           ...  \n",
       "Love              Chardonnay                80.0\n",
       "Congress Springs  Pinot Noir                80.0\n",
       "Four Vines        Syrah                     80.0\n",
       "La Val            White Blend               80.0\n",
       "Four Vines        Rhône-style Red Blend     80.0\n",
       "Name: Puntuacion, Length: 30092, dtype: float64"
      ]
     },
     "execution_count": 20,
     "metadata": {},
     "output_type": "execute_result"
    }
   ],
   "source": [
    "# Reporte 1: Promedio de Puntuación por Bodega y Variedad\n",
    "df_winemag.groupby(['Bodega', 'Variedad'])['Puntuacion'].mean().sort_values(ascending=False)"
   ]
  },
  {
   "cell_type": "code",
   "execution_count": 24,
   "metadata": {},
   "outputs": [
    {
     "data": {
      "text/plain": [
       "Pais       Rango_Puntuacion\n",
       "Argentina  Bueno                1540\n",
       "           Excelente             367\n",
       "Armenia    Bueno                   1\n",
       "Australia  Bueno                 693\n",
       "           Excelente             484\n",
       "                               ...  \n",
       "US         Bueno               15940\n",
       "           Excelente           11237\n",
       "Ukraine    Bueno                   5\n",
       "Uruguay    Bueno                  50\n",
       "           Excelente              11\n",
       "Length: 71, dtype: int64"
      ]
     },
     "execution_count": 24,
     "metadata": {},
     "output_type": "execute_result"
    }
   ],
   "source": [
    "# Reporte 2: Cantidad de Vinos por Rango de Puntuación en cada País\n",
    "df_winemag.groupby(['Pais', 'Rango_Puntuacion']).size()"
   ]
  },
  {
   "cell_type": "code",
   "execution_count": 29,
   "metadata": {},
   "outputs": [
    {
     "data": {
      "text/html": [
       "<div>\n",
       "<style scoped>\n",
       "    .dataframe tbody tr th:only-of-type {\n",
       "        vertical-align: middle;\n",
       "    }\n",
       "\n",
       "    .dataframe tbody tr th {\n",
       "        vertical-align: top;\n",
       "    }\n",
       "\n",
       "    .dataframe thead th {\n",
       "        text-align: right;\n",
       "    }\n",
       "</style>\n",
       "<table border=\"1\" class=\"dataframe\">\n",
       "  <thead>\n",
       "    <tr style=\"text-align: right;\">\n",
       "      <th></th>\n",
       "      <th>Pais</th>\n",
       "      <th>Variedad</th>\n",
       "      <th>Count</th>\n",
       "    </tr>\n",
       "  </thead>\n",
       "  <tbody>\n",
       "    <tr>\n",
       "      <th>0</th>\n",
       "      <td>Argentina</td>\n",
       "      <td>Barbera</td>\n",
       "      <td>1</td>\n",
       "    </tr>\n",
       "    <tr>\n",
       "      <th>1</th>\n",
       "      <td>Argentina</td>\n",
       "      <td>Bonarda</td>\n",
       "      <td>53</td>\n",
       "    </tr>\n",
       "    <tr>\n",
       "      <th>2</th>\n",
       "      <td>Argentina</td>\n",
       "      <td>Bordeaux-style Red Blend</td>\n",
       "      <td>44</td>\n",
       "    </tr>\n",
       "    <tr>\n",
       "      <th>3</th>\n",
       "      <td>Argentina</td>\n",
       "      <td>Bordeaux-style White Blend</td>\n",
       "      <td>1</td>\n",
       "    </tr>\n",
       "    <tr>\n",
       "      <th>4</th>\n",
       "      <td>Argentina</td>\n",
       "      <td>Cabernet Blend</td>\n",
       "      <td>4</td>\n",
       "    </tr>\n",
       "    <tr>\n",
       "      <th>...</th>\n",
       "      <td>...</td>\n",
       "      <td>...</td>\n",
       "      <td>...</td>\n",
       "    </tr>\n",
       "    <tr>\n",
       "      <th>1299</th>\n",
       "      <td>Uruguay</td>\n",
       "      <td>Tannat</td>\n",
       "      <td>28</td>\n",
       "    </tr>\n",
       "    <tr>\n",
       "      <th>1300</th>\n",
       "      <td>Uruguay</td>\n",
       "      <td>Tannat-Cabernet Franc</td>\n",
       "      <td>2</td>\n",
       "    </tr>\n",
       "    <tr>\n",
       "      <th>1301</th>\n",
       "      <td>Uruguay</td>\n",
       "      <td>Tannat-Merlot</td>\n",
       "      <td>1</td>\n",
       "    </tr>\n",
       "    <tr>\n",
       "      <th>1302</th>\n",
       "      <td>Uruguay</td>\n",
       "      <td>Tannat-Syrah</td>\n",
       "      <td>1</td>\n",
       "    </tr>\n",
       "    <tr>\n",
       "      <th>1303</th>\n",
       "      <td>Uruguay</td>\n",
       "      <td>Tempranillo-Tannat</td>\n",
       "      <td>1</td>\n",
       "    </tr>\n",
       "  </tbody>\n",
       "</table>\n",
       "<p>1304 rows × 3 columns</p>\n",
       "</div>"
      ],
      "text/plain": [
       "           Pais                    Variedad  Count\n",
       "0     Argentina                     Barbera      1\n",
       "1     Argentina                     Bonarda     53\n",
       "2     Argentina    Bordeaux-style Red Blend     44\n",
       "3     Argentina  Bordeaux-style White Blend      1\n",
       "4     Argentina              Cabernet Blend      4\n",
       "...         ...                         ...    ...\n",
       "1299    Uruguay                      Tannat     28\n",
       "1300    Uruguay       Tannat-Cabernet Franc      2\n",
       "1301    Uruguay               Tannat-Merlot      1\n",
       "1302    Uruguay                Tannat-Syrah      1\n",
       "1303    Uruguay          Tempranillo-Tannat      1\n",
       "\n",
       "[1304 rows x 3 columns]"
      ]
     },
     "execution_count": 29,
     "metadata": {},
     "output_type": "execute_result"
    }
   ],
   "source": [
    "# Reporte 3: Cantidad promedio de vinos por país y variedad\n",
    "df_winemag.groupby(['Pais', 'Variedad']).size().reset_index(name='Count')"
   ]
  },
  {
   "cell_type": "code",
   "execution_count": 34,
   "metadata": {},
   "outputs": [
    {
     "data": {
      "text/html": [
       "<div>\n",
       "<style scoped>\n",
       "    .dataframe tbody tr th:only-of-type {\n",
       "        vertical-align: middle;\n",
       "    }\n",
       "\n",
       "    .dataframe tbody tr th {\n",
       "        vertical-align: top;\n",
       "    }\n",
       "\n",
       "    .dataframe thead th {\n",
       "        text-align: right;\n",
       "    }\n",
       "</style>\n",
       "<table border=\"1\" class=\"dataframe\">\n",
       "  <thead>\n",
       "    <tr style=\"text-align: right;\">\n",
       "      <th></th>\n",
       "      <th>Provincia</th>\n",
       "      <th>Max precio</th>\n",
       "      <th>Min precio</th>\n",
       "    </tr>\n",
       "  </thead>\n",
       "  <tbody>\n",
       "    <tr>\n",
       "      <th>0</th>\n",
       "      <td>Achaia</td>\n",
       "      <td>25.0</td>\n",
       "      <td>25.0</td>\n",
       "    </tr>\n",
       "    <tr>\n",
       "      <th>1</th>\n",
       "      <td>Aconcagua Costa</td>\n",
       "      <td>25.0</td>\n",
       "      <td>13.0</td>\n",
       "    </tr>\n",
       "    <tr>\n",
       "      <th>2</th>\n",
       "      <td>Aconcagua Valley</td>\n",
       "      <td>235.0</td>\n",
       "      <td>5.0</td>\n",
       "    </tr>\n",
       "    <tr>\n",
       "      <th>3</th>\n",
       "      <td>Aegean</td>\n",
       "      <td>120.0</td>\n",
       "      <td>15.0</td>\n",
       "    </tr>\n",
       "    <tr>\n",
       "      <th>4</th>\n",
       "      <td>Agioritikos</td>\n",
       "      <td>25.0</td>\n",
       "      <td>22.0</td>\n",
       "    </tr>\n",
       "    <tr>\n",
       "      <th>...</th>\n",
       "      <td>...</td>\n",
       "      <td>...</td>\n",
       "      <td>...</td>\n",
       "    </tr>\n",
       "    <tr>\n",
       "      <th>380</th>\n",
       "      <td>Zenata</td>\n",
       "      <td>18.0</td>\n",
       "      <td>14.0</td>\n",
       "    </tr>\n",
       "    <tr>\n",
       "      <th>381</th>\n",
       "      <td>Österreichischer Perlwein</td>\n",
       "      <td>21.0</td>\n",
       "      <td>21.0</td>\n",
       "    </tr>\n",
       "    <tr>\n",
       "      <th>382</th>\n",
       "      <td>Österreichischer Sekt</td>\n",
       "      <td>44.0</td>\n",
       "      <td>15.0</td>\n",
       "    </tr>\n",
       "    <tr>\n",
       "      <th>383</th>\n",
       "      <td>Štajerska</td>\n",
       "      <td>31.0</td>\n",
       "      <td>11.0</td>\n",
       "    </tr>\n",
       "    <tr>\n",
       "      <th>384</th>\n",
       "      <td>Župa</td>\n",
       "      <td>40.0</td>\n",
       "      <td>18.0</td>\n",
       "    </tr>\n",
       "  </tbody>\n",
       "</table>\n",
       "<p>385 rows × 3 columns</p>\n",
       "</div>"
      ],
      "text/plain": [
       "                     Provincia  Max precio  Min precio\n",
       "0                       Achaia        25.0        25.0\n",
       "1              Aconcagua Costa        25.0        13.0\n",
       "2             Aconcagua Valley       235.0         5.0\n",
       "3                       Aegean       120.0        15.0\n",
       "4                  Agioritikos        25.0        22.0\n",
       "..                         ...         ...         ...\n",
       "380                     Zenata        18.0        14.0\n",
       "381  Österreichischer Perlwein        21.0        21.0\n",
       "382      Österreichischer Sekt        44.0        15.0\n",
       "383                  Štajerska        31.0        11.0\n",
       "384                       Župa        40.0        18.0\n",
       "\n",
       "[385 rows x 3 columns]"
      ]
     },
     "execution_count": 34,
     "metadata": {},
     "output_type": "execute_result"
    }
   ],
   "source": [
    "# Reporte 4: Precio máximo y mínimo por provincia\n",
    "df_winemag.groupby('Provincia')['Precio'].agg([(\"Max precio\", \"max\"), (\"Min precio\", \"min\")]).reset_index()"
   ]
  },
  {
   "cell_type": "code",
   "execution_count": 37,
   "metadata": {},
   "outputs": [
    {
     "name": "stdout",
     "output_type": "stream",
     "text": [
      "El reporte se ha guardado en formato 'csv' correctamente\n"
     ]
    }
   ],
   "source": [
    "# Llevando un reporte a formato CSV (Reporte 4)\n",
    "reporte = df_winemag.groupby('Provincia')['Precio'].agg([(\"Max precio\", \"max\"), (\"Min precio\", \"min\")]).reset_index()\n",
    "reporte.to_csv('Reporte_precio_max_min_provincia.csv')\n",
    "print(\"El reporte se ha guardado en formato 'csv' correctamente\")"
   ]
  }
 ],
 "metadata": {
  "kernelspec": {
   "display_name": "Python 3",
   "language": "python",
   "name": "python3"
  },
  "language_info": {
   "codemirror_mode": {
    "name": "ipython",
    "version": 3
   },
   "file_extension": ".py",
   "mimetype": "text/x-python",
   "name": "python",
   "nbconvert_exporter": "python",
   "pygments_lexer": "ipython3",
   "version": "3.10.13"
  }
 },
 "nbformat": 4,
 "nbformat_minor": 2
}
